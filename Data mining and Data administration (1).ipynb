{
 "cells": [
  {
   "cell_type": "markdown",
   "id": "e0cb7087",
   "metadata": {},
   "source": [
    "### Dataset Overview\n",
    "\n",
    "**Decision Support System determining whether Patients have Heart Disease for Healthcare Professionals**\n",
    "\n",
    "The dataset used in this project is a subset of the Heart Disease dataset from the Original Heart Disease\n",
    "data repo.\n",
    "It contains 76 attributes. However, the subset we are using only contains 14.\n",
    "\n",
    "Our field of interest is the \"target\" variable, which indicates whether the patient likely suffers from heart\n",
    "disease or not.\n",
    "The objective of this project is to create a web application acting as a decision support system using data\n",
    "exploration and machine learning techniques to determine whether a patient has heart disease and thus\n",
    "needs to be treated or not.\n",
    "\n",
    "The objective of this project is to gain a practical understanding of the use and implementation of decision\n",
    "support systems in an organizational context. This project also aims to test the Python programming and\n",
    "problem solving skills of the student.\n",
    "\n",
    "**Question 1 - SQLite Database Connection**<br>\n",
    "**Create and set up a connection to a SQLite database that you will be reading your data from.**"
   ]
  },
  {
   "cell_type": "code",
   "execution_count": 1,
   "id": "31a82a30",
   "metadata": {},
   "outputs": [],
   "source": [
    "# Import Libraries\n",
    "import sqlite3\n",
    "import pandas as pd\n",
    "import numpy as np\n",
    "import matplotlib.pyplot as plt\n",
    "import seaborn as sns\n",
    "sns.set()"
   ]
  },
  {
   "cell_type": "code",
   "execution_count": 2,
   "id": "f3aca516",
   "metadata": {},
   "outputs": [
    {
     "name": "stdout",
     "output_type": "stream",
     "text": [
      "(303, 1)\n"
     ]
    },
    {
     "data": {
      "text/html": [
       "<div>\n",
       "<style scoped>\n",
       "    .dataframe tbody tr th:only-of-type {\n",
       "        vertical-align: middle;\n",
       "    }\n",
       "\n",
       "    .dataframe tbody tr th {\n",
       "        vertical-align: top;\n",
       "    }\n",
       "\n",
       "    .dataframe thead th {\n",
       "        text-align: right;\n",
       "    }\n",
       "</style>\n",
       "<table border=\"1\" class=\"dataframe\">\n",
       "  <thead>\n",
       "    <tr style=\"text-align: right;\">\n",
       "      <th></th>\n",
       "      <th>age;sex;cp;trestbps;chol;fbs;restecg;thalach;exang;oldpeak;slope;ca;thal;target</th>\n",
       "    </tr>\n",
       "  </thead>\n",
       "  <tbody>\n",
       "    <tr>\n",
       "      <th>0</th>\n",
       "      <td>63;1;3;145;233;1;0;150;0;2.3;0;0;1;1</td>\n",
       "    </tr>\n",
       "    <tr>\n",
       "      <th>1</th>\n",
       "      <td>37;1;2;130;250;0;1;187;0;3.5;0;0;2;1</td>\n",
       "    </tr>\n",
       "    <tr>\n",
       "      <th>2</th>\n",
       "      <td>41;0;1;130;204;0;0;172;0;1.4;2;0;2;1</td>\n",
       "    </tr>\n",
       "    <tr>\n",
       "      <th>3</th>\n",
       "      <td>56;1;1;120;236;0;1;178;0;0.8;2;0;2;1</td>\n",
       "    </tr>\n",
       "    <tr>\n",
       "      <th>4</th>\n",
       "      <td>57;0;0;120;354;0;1;163;1;0.6;2;0;2;1</td>\n",
       "    </tr>\n",
       "  </tbody>\n",
       "</table>\n",
       "</div>"
      ],
      "text/plain": [
       "  age;sex;cp;trestbps;chol;fbs;restecg;thalach;exang;oldpeak;slope;ca;thal;target\n",
       "0               63;1;3;145;233;1;0;150;0;2.3;0;0;1;1                             \n",
       "1               37;1;2;130;250;0;1;187;0;3.5;0;0;2;1                             \n",
       "2               41;0;1;130;204;0;0;172;0;1.4;2;0;2;1                             \n",
       "3               56;1;1;120;236;0;1;178;0;0.8;2;0;2;1                             \n",
       "4               57;0;0;120;354;0;1;163;1;0.6;2;0;2;1                             "
      ]
     },
     "execution_count": 2,
     "metadata": {},
     "output_type": "execute_result"
    }
   ],
   "source": [
    "# Load the dataset\n",
    "data = pd.read_csv(\"heart.csv\")\n",
    "print(data.shape)\n",
    "data.head()"
   ]
  },
  {
   "cell_type": "code",
   "execution_count": 3,
   "id": "fc9aa93f",
   "metadata": {},
   "outputs": [
    {
     "name": "stdout",
     "output_type": "stream",
     "text": [
      "  age;sex;cp;trestbps;chol;fbs;restecg;thalach;exang;oldpeak;slope;ca;thal;target\n",
      "0               63;1;3;145;233;1;0;150;0;2.3;0;0;1;1                             \n",
      "1               37;1;2;130;250;0;1;187;0;3.5;0;0;2;1                             \n",
      "2               41;0;1;130;204;0;0;172;0;1.4;2;0;2;1                             \n",
      "3               56;1;1;120;236;0;1;178;0;0.8;2;0;2;1                             \n",
      "4               57;0;0;120;354;0;1;163;1;0.6;2;0;2;1                             \n"
     ]
    }
   ],
   "source": [
    "#Create and Set Up SQLite Database\n",
    "\n",
    "\n",
    "# Connect to a SQLite database (or create it if it doesn't exist)\n",
    "conn = sqlite3.connect('heart_disease.db')\n",
    "\n",
    "# Sanitize column names\n",
    "data.columns = [c.replace(' ', '_').replace('-', '_') for c in data.columns]\n",
    "\n",
    "# Ensure all data is in a compatible format\n",
    "# data = data.astype(str)  # Uncomment if necessary\n",
    "\n",
    "# Write the DataFrame to a SQL table\n",
    "data.to_sql('heart_disease', conn, if_exists='replace', index=False)\n",
    "\n",
    "# Verify the data was written correctly\n",
    "query = 'SELECT * FROM heart_disease LIMIT 5;'\n",
    "result = pd.read_sql(query, conn)\n",
    "print(result)\n",
    "\n",
    "# Close the connection\n",
    "conn.close()\n"
   ]
  },
  {
   "cell_type": "markdown",
   "id": "19897467",
   "metadata": {},
   "source": [
    "### Question 2: Data Preprocessing and Visualization\n",
    "\n",
    "Once you have established a connection to the database, you need to transform (preprocess) your data to\n",
    "get it into a more consistent, accurate, and reliable format. This will then allow you to explore and visualize\n",
    "the data to gain significant insights into it.\n",
    "\n",
    "**2.1 Preprocessing and visualizing the data<br>\n",
    "a. Perform any necessary cleaning and preprocessing of the data.**"
   ]
  },
  {
   "cell_type": "code",
   "execution_count": 4,
   "id": "7bbf1c80",
   "metadata": {},
   "outputs": [
    {
     "name": "stdout",
     "output_type": "stream",
     "text": [
      "<class 'pandas.core.frame.DataFrame'>\n",
      "RangeIndex: 303 entries, 0 to 302\n",
      "Data columns (total 1 columns):\n",
      " #   Column                                                                           Non-Null Count  Dtype \n",
      "---  ------                                                                           --------------  ----- \n",
      " 0   age;sex;cp;trestbps;chol;fbs;restecg;thalach;exang;oldpeak;slope;ca;thal;target  303 non-null    object\n",
      "dtypes: object(1)\n",
      "memory usage: 2.5+ KB\n"
     ]
    }
   ],
   "source": [
    "# Check info\n",
    "data.info()"
   ]
  },
  {
   "cell_type": "code",
   "execution_count": 5,
   "id": "61dc2385",
   "metadata": {},
   "outputs": [
    {
     "name": "stdout",
     "output_type": "stream",
     "text": [
      "age;sex;cp;trestbps;chol;fbs;restecg;thalach;exang;oldpeak;slope;ca;thal;target    0\n",
      "dtype: int64\n"
     ]
    }
   ],
   "source": [
    "# Check for missing values\n",
    "print(data.isnull().sum())\n"
   ]
  },
  {
   "cell_type": "code",
   "execution_count": 6,
   "id": "8434184f",
   "metadata": {},
   "outputs": [
    {
     "data": {
      "text/html": [
       "<div>\n",
       "<style scoped>\n",
       "    .dataframe tbody tr th:only-of-type {\n",
       "        vertical-align: middle;\n",
       "    }\n",
       "\n",
       "    .dataframe tbody tr th {\n",
       "        vertical-align: top;\n",
       "    }\n",
       "\n",
       "    .dataframe thead th {\n",
       "        text-align: right;\n",
       "    }\n",
       "</style>\n",
       "<table border=\"1\" class=\"dataframe\">\n",
       "  <thead>\n",
       "    <tr style=\"text-align: right;\">\n",
       "      <th></th>\n",
       "      <th>age;sex;cp;trestbps;chol;fbs;restecg;thalach;exang;oldpeak;slope;ca;thal;target</th>\n",
       "    </tr>\n",
       "  </thead>\n",
       "  <tbody>\n",
       "    <tr>\n",
       "      <th>count</th>\n",
       "      <td>303</td>\n",
       "    </tr>\n",
       "    <tr>\n",
       "      <th>unique</th>\n",
       "      <td>302</td>\n",
       "    </tr>\n",
       "    <tr>\n",
       "      <th>top</th>\n",
       "      <td>38;1;2;138;175;0;1;173;0;0;2;4;2;1</td>\n",
       "    </tr>\n",
       "    <tr>\n",
       "      <th>freq</th>\n",
       "      <td>2</td>\n",
       "    </tr>\n",
       "  </tbody>\n",
       "</table>\n",
       "</div>"
      ],
      "text/plain": [
       "       age;sex;cp;trestbps;chol;fbs;restecg;thalach;exang;oldpeak;slope;ca;thal;target\n",
       "count                                                 303                             \n",
       "unique                                                302                             \n",
       "top                    38;1;2;138;175;0;1;173;0;0;2;4;2;1                             \n",
       "freq                                                    2                             "
      ]
     },
     "execution_count": 6,
     "metadata": {},
     "output_type": "execute_result"
    }
   ],
   "source": [
    "# Describe data\n",
    "data.describe()"
   ]
  },
  {
   "cell_type": "code",
   "execution_count": 7,
   "id": "89286653",
   "metadata": {},
   "outputs": [
    {
     "data": {
      "text/plain": [
       "Index(['age;sex;cp;trestbps;chol;fbs;restecg;thalach;exang;oldpeak;slope;ca;thal;target'], dtype='object')"
      ]
     },
     "execution_count": 7,
     "metadata": {},
     "output_type": "execute_result"
    }
   ],
   "source": [
    "# Check columns\n",
    "data.columns"
   ]
  },
  {
   "cell_type": "code",
   "execution_count": 8,
   "id": "f7d4201a",
   "metadata": {},
   "outputs": [],
   "source": [
    "# Rename columns\n",
    "data.rename(columns={\n",
    "    'sex': 'gender',\n",
    "    'cp': 'chest_pain_type',\n",
    "    'trestbps': 'resting_blood_pressure',\n",
    "    'chol': 'serum_cholesterol',\n",
    "    'fbs': 'fasting_blood_sugar',\n",
    "    'restecg': 'resting_electrocardiographic_results',\n",
    "    'thalach': 'maximum_heart_rate_achieved',\n",
    "    'exang': 'exercise_induced_angina',\n",
    "    'oldpeak': 'ST_depression',\n",
    "    'slope': 'slope_of_peak_exercise_ST_segment',\n",
    "    'ca': 'number_of_major_vessels',\n",
    "    'thal': 'thalassemia',\n",
    "    'target': 'target'\n",
    "}, inplace=True)\n"
   ]
  },
  {
   "cell_type": "code",
   "execution_count": 9,
   "id": "b8d2f616",
   "metadata": {},
   "outputs": [
    {
     "data": {
      "text/html": [
       "<div>\n",
       "<style scoped>\n",
       "    .dataframe tbody tr th:only-of-type {\n",
       "        vertical-align: middle;\n",
       "    }\n",
       "\n",
       "    .dataframe tbody tr th {\n",
       "        vertical-align: top;\n",
       "    }\n",
       "\n",
       "    .dataframe thead th {\n",
       "        text-align: right;\n",
       "    }\n",
       "</style>\n",
       "<table border=\"1\" class=\"dataframe\">\n",
       "  <thead>\n",
       "    <tr style=\"text-align: right;\">\n",
       "      <th></th>\n",
       "      <th>age;sex;cp;trestbps;chol;fbs;restecg;thalach;exang;oldpeak;slope;ca;thal;target</th>\n",
       "    </tr>\n",
       "  </thead>\n",
       "  <tbody>\n",
       "    <tr>\n",
       "      <th>0</th>\n",
       "      <td>63;1;3;145;233;1;0;150;0;2.3;0;0;1;1</td>\n",
       "    </tr>\n",
       "    <tr>\n",
       "      <th>1</th>\n",
       "      <td>37;1;2;130;250;0;1;187;0;3.5;0;0;2;1</td>\n",
       "    </tr>\n",
       "    <tr>\n",
       "      <th>2</th>\n",
       "      <td>41;0;1;130;204;0;0;172;0;1.4;2;0;2;1</td>\n",
       "    </tr>\n",
       "    <tr>\n",
       "      <th>3</th>\n",
       "      <td>56;1;1;120;236;0;1;178;0;0.8;2;0;2;1</td>\n",
       "    </tr>\n",
       "    <tr>\n",
       "      <th>4</th>\n",
       "      <td>57;0;0;120;354;0;1;163;1;0.6;2;0;2;1</td>\n",
       "    </tr>\n",
       "  </tbody>\n",
       "</table>\n",
       "</div>"
      ],
      "text/plain": [
       "  age;sex;cp;trestbps;chol;fbs;restecg;thalach;exang;oldpeak;slope;ca;thal;target\n",
       "0               63;1;3;145;233;1;0;150;0;2.3;0;0;1;1                             \n",
       "1               37;1;2;130;250;0;1;187;0;3.5;0;0;2;1                             \n",
       "2               41;0;1;130;204;0;0;172;0;1.4;2;0;2;1                             \n",
       "3               56;1;1;120;236;0;1;178;0;0.8;2;0;2;1                             \n",
       "4               57;0;0;120;354;0;1;163;1;0.6;2;0;2;1                             "
      ]
     },
     "execution_count": 9,
     "metadata": {},
     "output_type": "execute_result"
    }
   ],
   "source": [
    "data.head()"
   ]
  },
  {
   "cell_type": "markdown",
   "id": "d65165de",
   "metadata": {},
   "source": [
    "**B. Plot the distribution of classes for the (8) categorical variables based on the target variable. Provide any observations that can be derived from these plots.** "
   ]
  },
  {
   "cell_type": "code",
   "execution_count": 10,
   "id": "dd76dbf9",
   "metadata": {},
   "outputs": [
    {
     "ename": "ValueError",
     "evalue": "Could not interpret input 'gender'",
     "output_type": "error",
     "traceback": [
      "\u001b[1;31m---------------------------------------------------------------------------\u001b[0m",
      "\u001b[1;31mValueError\u001b[0m                                Traceback (most recent call last)",
      "Cell \u001b[1;32mIn[10], line 7\u001b[0m\n\u001b[0;32m      5\u001b[0m \u001b[38;5;28;01mfor\u001b[39;00m var \u001b[38;5;129;01min\u001b[39;00m categorical_vars:\n\u001b[0;32m      6\u001b[0m     plt\u001b[38;5;241m.\u001b[39mfigure(figsize\u001b[38;5;241m=\u001b[39m(\u001b[38;5;241m10\u001b[39m, \u001b[38;5;241m6\u001b[39m))\n\u001b[1;32m----> 7\u001b[0m     sns\u001b[38;5;241m.\u001b[39mcountplot(x\u001b[38;5;241m=\u001b[39mvar, hue\u001b[38;5;241m=\u001b[39m\u001b[38;5;124m'\u001b[39m\u001b[38;5;124mtarget\u001b[39m\u001b[38;5;124m'\u001b[39m, data\u001b[38;5;241m=\u001b[39mdata)\n\u001b[0;32m      8\u001b[0m     plt\u001b[38;5;241m.\u001b[39mtitle(\u001b[38;5;124mf\u001b[39m\u001b[38;5;124m'\u001b[39m\u001b[38;5;124mDistribution of \u001b[39m\u001b[38;5;132;01m{\u001b[39;00mvar\u001b[38;5;132;01m}\u001b[39;00m\u001b[38;5;124m based on heart disease presence\u001b[39m\u001b[38;5;124m'\u001b[39m)\n\u001b[0;32m      9\u001b[0m     plt\u001b[38;5;241m.\u001b[39mshow()\n",
      "File \u001b[1;32m~\\anaconda3\\Lib\\site-packages\\seaborn\\categorical.py:2943\u001b[0m, in \u001b[0;36mcountplot\u001b[1;34m(data, x, y, hue, order, hue_order, orient, color, palette, saturation, width, dodge, ax, **kwargs)\u001b[0m\n\u001b[0;32m   2940\u001b[0m \u001b[38;5;28;01melif\u001b[39;00m x \u001b[38;5;129;01mis\u001b[39;00m \u001b[38;5;129;01mnot\u001b[39;00m \u001b[38;5;28;01mNone\u001b[39;00m \u001b[38;5;129;01mand\u001b[39;00m y \u001b[38;5;129;01mis\u001b[39;00m \u001b[38;5;129;01mnot\u001b[39;00m \u001b[38;5;28;01mNone\u001b[39;00m:\n\u001b[0;32m   2941\u001b[0m     \u001b[38;5;28;01mraise\u001b[39;00m \u001b[38;5;167;01mValueError\u001b[39;00m(\u001b[38;5;124m\"\u001b[39m\u001b[38;5;124mCannot pass values for both `x` and `y`\u001b[39m\u001b[38;5;124m\"\u001b[39m)\n\u001b[1;32m-> 2943\u001b[0m plotter \u001b[38;5;241m=\u001b[39m _CountPlotter(\n\u001b[0;32m   2944\u001b[0m     x, y, hue, data, order, hue_order,\n\u001b[0;32m   2945\u001b[0m     estimator, errorbar, n_boot, units, seed,\n\u001b[0;32m   2946\u001b[0m     orient, color, palette, saturation,\n\u001b[0;32m   2947\u001b[0m     width, errcolor, errwidth, capsize, dodge\n\u001b[0;32m   2948\u001b[0m )\n\u001b[0;32m   2950\u001b[0m plotter\u001b[38;5;241m.\u001b[39mvalue_label \u001b[38;5;241m=\u001b[39m \u001b[38;5;124m\"\u001b[39m\u001b[38;5;124mcount\u001b[39m\u001b[38;5;124m\"\u001b[39m\n\u001b[0;32m   2952\u001b[0m \u001b[38;5;28;01mif\u001b[39;00m ax \u001b[38;5;129;01mis\u001b[39;00m \u001b[38;5;28;01mNone\u001b[39;00m:\n",
      "File \u001b[1;32m~\\anaconda3\\Lib\\site-packages\\seaborn\\categorical.py:1530\u001b[0m, in \u001b[0;36m_BarPlotter.__init__\u001b[1;34m(self, x, y, hue, data, order, hue_order, estimator, errorbar, n_boot, units, seed, orient, color, palette, saturation, width, errcolor, errwidth, capsize, dodge)\u001b[0m\n\u001b[0;32m   1525\u001b[0m \u001b[38;5;28;01mdef\u001b[39;00m \u001b[38;5;21m__init__\u001b[39m(\u001b[38;5;28mself\u001b[39m, x, y, hue, data, order, hue_order,\n\u001b[0;32m   1526\u001b[0m              estimator, errorbar, n_boot, units, seed,\n\u001b[0;32m   1527\u001b[0m              orient, color, palette, saturation, width,\n\u001b[0;32m   1528\u001b[0m              errcolor, errwidth, capsize, dodge):\n\u001b[0;32m   1529\u001b[0m \u001b[38;5;250m    \u001b[39m\u001b[38;5;124;03m\"\"\"Initialize the plotter.\"\"\"\u001b[39;00m\n\u001b[1;32m-> 1530\u001b[0m     \u001b[38;5;28mself\u001b[39m\u001b[38;5;241m.\u001b[39mestablish_variables(x, y, hue, data, orient,\n\u001b[0;32m   1531\u001b[0m                              order, hue_order, units)\n\u001b[0;32m   1532\u001b[0m     \u001b[38;5;28mself\u001b[39m\u001b[38;5;241m.\u001b[39mestablish_colors(color, palette, saturation)\n\u001b[0;32m   1533\u001b[0m     \u001b[38;5;28mself\u001b[39m\u001b[38;5;241m.\u001b[39mestimate_statistic(estimator, errorbar, n_boot, seed)\n",
      "File \u001b[1;32m~\\anaconda3\\Lib\\site-packages\\seaborn\\categorical.py:541\u001b[0m, in \u001b[0;36m_CategoricalPlotter.establish_variables\u001b[1;34m(self, x, y, hue, data, orient, order, hue_order, units)\u001b[0m\n\u001b[0;32m    539\u001b[0m     \u001b[38;5;28;01mif\u001b[39;00m \u001b[38;5;28misinstance\u001b[39m(var, \u001b[38;5;28mstr\u001b[39m):\n\u001b[0;32m    540\u001b[0m         err \u001b[38;5;241m=\u001b[39m \u001b[38;5;124mf\u001b[39m\u001b[38;5;124m\"\u001b[39m\u001b[38;5;124mCould not interpret input \u001b[39m\u001b[38;5;124m'\u001b[39m\u001b[38;5;132;01m{\u001b[39;00mvar\u001b[38;5;132;01m}\u001b[39;00m\u001b[38;5;124m'\u001b[39m\u001b[38;5;124m\"\u001b[39m\n\u001b[1;32m--> 541\u001b[0m         \u001b[38;5;28;01mraise\u001b[39;00m \u001b[38;5;167;01mValueError\u001b[39;00m(err)\n\u001b[0;32m    543\u001b[0m \u001b[38;5;66;03m# Figure out the plotting orientation\u001b[39;00m\n\u001b[0;32m    544\u001b[0m orient \u001b[38;5;241m=\u001b[39m infer_orient(\n\u001b[0;32m    545\u001b[0m     x, y, orient, require_numeric\u001b[38;5;241m=\u001b[39m\u001b[38;5;28mself\u001b[39m\u001b[38;5;241m.\u001b[39mrequire_numeric\n\u001b[0;32m    546\u001b[0m )\n",
      "\u001b[1;31mValueError\u001b[0m: Could not interpret input 'gender'"
     ]
    },
    {
     "data": {
      "text/plain": [
       "<Figure size 1000x600 with 0 Axes>"
      ]
     },
     "metadata": {},
     "output_type": "display_data"
    }
   ],
   "source": [
    "categorical_vars = ['gender', 'chest_pain_type', 'fasting_blood_sugar', 'resting_electrocardiographic_results',\n",
    "                    'exercise_induced_angina', 'slope_of_peak_exercise_ST_segment', 'number_of_major_vessels', 'thalassemia']\n",
    "\n",
    "# Plotting the distribution of each categorical variable based on heart disease presence\n",
    "for var in categorical_vars:\n",
    "    plt.figure(figsize=(10, 6))\n",
    "    sns.countplot(x=var, hue='target', data=data)\n",
    "    plt.title(f'Distribution of {var} based on heart disease presence')\n",
    "    plt.show()\n"
   ]
  },
  {
   "cell_type": "markdown",
   "id": "50d63c23",
   "metadata": {},
   "source": [
    "Sex: Higher proportion of males diagnosed with heart disease.\n",
    "\n",
    "Chest Pain Type (cp): Certain chest pain types (e.g., type 3) are more common in patients without heart disease.\n",
    "\n",
    "Fasting Blood Sugar (fbs): FBS > 120 is not a significant indicator of heart disease.\n",
    "\n",
    "Resting ECG (restecg): Specific ECG results correlate with heart disease.\n",
    "\n",
    "Exercise Induced Angina (exang): Patients with exercise-induced angina are more likely to have heart disease.\n",
    "\n",
    "Slope of the Peak Exercise ST Segment (slope): Certain slopes are associated with heart disease.\n",
    "\n",
    "Number of Major Vessels (ca): Higher number of major vessels colored by fluoroscopy is associated with heart disease.\n",
    "\n",
    "Thalassemia (thal): Certain thalassemia types are more common in heart disease patients."
   ]
  },
  {
   "cell_type": "markdown",
   "id": "cb819492",
   "metadata": {},
   "source": [
    "**C. Plot the distribution of classes for the numeric variables based on the target variable. Provide any observations (at least 5) that can be derived from these plots**"
   ]
  },
  {
   "cell_type": "code",
   "execution_count": 11,
   "id": "7dc87470",
   "metadata": {},
   "outputs": [
    {
     "ename": "ValueError",
     "evalue": "Could not interpret value `age` for parameter `x`",
     "output_type": "error",
     "traceback": [
      "\u001b[1;31m---------------------------------------------------------------------------\u001b[0m",
      "\u001b[1;31mValueError\u001b[0m                                Traceback (most recent call last)",
      "Cell \u001b[1;32mIn[11], line 6\u001b[0m\n\u001b[0;32m      4\u001b[0m \u001b[38;5;28;01mfor\u001b[39;00m var \u001b[38;5;129;01min\u001b[39;00m numeric_vars:\n\u001b[0;32m      5\u001b[0m     plt\u001b[38;5;241m.\u001b[39mfigure(figsize\u001b[38;5;241m=\u001b[39m(\u001b[38;5;241m10\u001b[39m, \u001b[38;5;241m6\u001b[39m))\n\u001b[1;32m----> 6\u001b[0m     sns\u001b[38;5;241m.\u001b[39mhistplot(data\u001b[38;5;241m=\u001b[39mdata, x\u001b[38;5;241m=\u001b[39mvar, hue\u001b[38;5;241m=\u001b[39m\u001b[38;5;124m'\u001b[39m\u001b[38;5;124mtarget\u001b[39m\u001b[38;5;124m'\u001b[39m, kde\u001b[38;5;241m=\u001b[39m\u001b[38;5;28;01mTrue\u001b[39;00m)\n\u001b[0;32m      7\u001b[0m     plt\u001b[38;5;241m.\u001b[39mtitle(\u001b[38;5;124mf\u001b[39m\u001b[38;5;124m'\u001b[39m\u001b[38;5;124mDistribution of \u001b[39m\u001b[38;5;132;01m{\u001b[39;00mvar\u001b[38;5;132;01m}\u001b[39;00m\u001b[38;5;124m based on heart disease presence\u001b[39m\u001b[38;5;124m'\u001b[39m)\n\u001b[0;32m      8\u001b[0m     plt\u001b[38;5;241m.\u001b[39mshow()\n",
      "File \u001b[1;32m~\\anaconda3\\Lib\\site-packages\\seaborn\\distributions.py:1395\u001b[0m, in \u001b[0;36mhistplot\u001b[1;34m(data, x, y, hue, weights, stat, bins, binwidth, binrange, discrete, cumulative, common_bins, common_norm, multiple, element, fill, shrink, kde, kde_kws, line_kws, thresh, pthresh, pmax, cbar, cbar_ax, cbar_kws, palette, hue_order, hue_norm, color, log_scale, legend, ax, **kwargs)\u001b[0m\n\u001b[0;32m   1374\u001b[0m \u001b[38;5;28;01mdef\u001b[39;00m \u001b[38;5;21mhistplot\u001b[39m(\n\u001b[0;32m   1375\u001b[0m     data\u001b[38;5;241m=\u001b[39m\u001b[38;5;28;01mNone\u001b[39;00m, \u001b[38;5;241m*\u001b[39m,\n\u001b[0;32m   1376\u001b[0m     \u001b[38;5;66;03m# Vector variables\u001b[39;00m\n\u001b[1;32m   (...)\u001b[0m\n\u001b[0;32m   1392\u001b[0m     \u001b[38;5;241m*\u001b[39m\u001b[38;5;241m*\u001b[39mkwargs,\n\u001b[0;32m   1393\u001b[0m ):\n\u001b[1;32m-> 1395\u001b[0m     p \u001b[38;5;241m=\u001b[39m _DistributionPlotter(\n\u001b[0;32m   1396\u001b[0m         data\u001b[38;5;241m=\u001b[39mdata,\n\u001b[0;32m   1397\u001b[0m         variables\u001b[38;5;241m=\u001b[39m_DistributionPlotter\u001b[38;5;241m.\u001b[39mget_semantics(\u001b[38;5;28mlocals\u001b[39m())\n\u001b[0;32m   1398\u001b[0m     )\n\u001b[0;32m   1400\u001b[0m     p\u001b[38;5;241m.\u001b[39mmap_hue(palette\u001b[38;5;241m=\u001b[39mpalette, order\u001b[38;5;241m=\u001b[39mhue_order, norm\u001b[38;5;241m=\u001b[39mhue_norm)\n\u001b[0;32m   1402\u001b[0m     \u001b[38;5;28;01mif\u001b[39;00m ax \u001b[38;5;129;01mis\u001b[39;00m \u001b[38;5;28;01mNone\u001b[39;00m:\n",
      "File \u001b[1;32m~\\anaconda3\\Lib\\site-packages\\seaborn\\distributions.py:113\u001b[0m, in \u001b[0;36m_DistributionPlotter.__init__\u001b[1;34m(self, data, variables)\u001b[0m\n\u001b[0;32m    107\u001b[0m \u001b[38;5;28;01mdef\u001b[39;00m \u001b[38;5;21m__init__\u001b[39m(\n\u001b[0;32m    108\u001b[0m     \u001b[38;5;28mself\u001b[39m,\n\u001b[0;32m    109\u001b[0m     data\u001b[38;5;241m=\u001b[39m\u001b[38;5;28;01mNone\u001b[39;00m,\n\u001b[0;32m    110\u001b[0m     variables\u001b[38;5;241m=\u001b[39m{},\n\u001b[0;32m    111\u001b[0m ):\n\u001b[1;32m--> 113\u001b[0m     \u001b[38;5;28msuper\u001b[39m()\u001b[38;5;241m.\u001b[39m\u001b[38;5;21m__init__\u001b[39m(data\u001b[38;5;241m=\u001b[39mdata, variables\u001b[38;5;241m=\u001b[39mvariables)\n",
      "File \u001b[1;32m~\\anaconda3\\Lib\\site-packages\\seaborn\\_oldcore.py:640\u001b[0m, in \u001b[0;36mVectorPlotter.__init__\u001b[1;34m(self, data, variables)\u001b[0m\n\u001b[0;32m    635\u001b[0m \u001b[38;5;66;03m# var_ordered is relevant only for categorical axis variables, and may\u001b[39;00m\n\u001b[0;32m    636\u001b[0m \u001b[38;5;66;03m# be better handled by an internal axis information object that tracks\u001b[39;00m\n\u001b[0;32m    637\u001b[0m \u001b[38;5;66;03m# such information and is set up by the scale_* methods. The analogous\u001b[39;00m\n\u001b[0;32m    638\u001b[0m \u001b[38;5;66;03m# information for numeric axes would be information about log scales.\u001b[39;00m\n\u001b[0;32m    639\u001b[0m \u001b[38;5;28mself\u001b[39m\u001b[38;5;241m.\u001b[39m_var_ordered \u001b[38;5;241m=\u001b[39m {\u001b[38;5;124m\"\u001b[39m\u001b[38;5;124mx\u001b[39m\u001b[38;5;124m\"\u001b[39m: \u001b[38;5;28;01mFalse\u001b[39;00m, \u001b[38;5;124m\"\u001b[39m\u001b[38;5;124my\u001b[39m\u001b[38;5;124m\"\u001b[39m: \u001b[38;5;28;01mFalse\u001b[39;00m}  \u001b[38;5;66;03m# alt., used DefaultDict\u001b[39;00m\n\u001b[1;32m--> 640\u001b[0m \u001b[38;5;28mself\u001b[39m\u001b[38;5;241m.\u001b[39massign_variables(data, variables)\n\u001b[0;32m    642\u001b[0m \u001b[38;5;28;01mfor\u001b[39;00m var, \u001b[38;5;28mcls\u001b[39m \u001b[38;5;129;01min\u001b[39;00m \u001b[38;5;28mself\u001b[39m\u001b[38;5;241m.\u001b[39m_semantic_mappings\u001b[38;5;241m.\u001b[39mitems():\n\u001b[0;32m    643\u001b[0m \n\u001b[0;32m    644\u001b[0m     \u001b[38;5;66;03m# Create the mapping function\u001b[39;00m\n\u001b[0;32m    645\u001b[0m     map_func \u001b[38;5;241m=\u001b[39m partial(\u001b[38;5;28mcls\u001b[39m\u001b[38;5;241m.\u001b[39mmap, plotter\u001b[38;5;241m=\u001b[39m\u001b[38;5;28mself\u001b[39m)\n",
      "File \u001b[1;32m~\\anaconda3\\Lib\\site-packages\\seaborn\\_oldcore.py:701\u001b[0m, in \u001b[0;36mVectorPlotter.assign_variables\u001b[1;34m(self, data, variables)\u001b[0m\n\u001b[0;32m    699\u001b[0m \u001b[38;5;28;01melse\u001b[39;00m:\n\u001b[0;32m    700\u001b[0m     \u001b[38;5;28mself\u001b[39m\u001b[38;5;241m.\u001b[39minput_format \u001b[38;5;241m=\u001b[39m \u001b[38;5;124m\"\u001b[39m\u001b[38;5;124mlong\u001b[39m\u001b[38;5;124m\"\u001b[39m\n\u001b[1;32m--> 701\u001b[0m     plot_data, variables \u001b[38;5;241m=\u001b[39m \u001b[38;5;28mself\u001b[39m\u001b[38;5;241m.\u001b[39m_assign_variables_longform(\n\u001b[0;32m    702\u001b[0m         data, \u001b[38;5;241m*\u001b[39m\u001b[38;5;241m*\u001b[39mvariables,\n\u001b[0;32m    703\u001b[0m     )\n\u001b[0;32m    705\u001b[0m \u001b[38;5;28mself\u001b[39m\u001b[38;5;241m.\u001b[39mplot_data \u001b[38;5;241m=\u001b[39m plot_data\n\u001b[0;32m    706\u001b[0m \u001b[38;5;28mself\u001b[39m\u001b[38;5;241m.\u001b[39mvariables \u001b[38;5;241m=\u001b[39m variables\n",
      "File \u001b[1;32m~\\anaconda3\\Lib\\site-packages\\seaborn\\_oldcore.py:938\u001b[0m, in \u001b[0;36mVectorPlotter._assign_variables_longform\u001b[1;34m(self, data, **kwargs)\u001b[0m\n\u001b[0;32m    933\u001b[0m \u001b[38;5;28;01melif\u001b[39;00m \u001b[38;5;28misinstance\u001b[39m(val, (\u001b[38;5;28mstr\u001b[39m, \u001b[38;5;28mbytes\u001b[39m)):\n\u001b[0;32m    934\u001b[0m \n\u001b[0;32m    935\u001b[0m     \u001b[38;5;66;03m# This looks like a column name but we don't know what it means!\u001b[39;00m\n\u001b[0;32m    937\u001b[0m     err \u001b[38;5;241m=\u001b[39m \u001b[38;5;124mf\u001b[39m\u001b[38;5;124m\"\u001b[39m\u001b[38;5;124mCould not interpret value `\u001b[39m\u001b[38;5;132;01m{\u001b[39;00mval\u001b[38;5;132;01m}\u001b[39;00m\u001b[38;5;124m` for parameter `\u001b[39m\u001b[38;5;132;01m{\u001b[39;00mkey\u001b[38;5;132;01m}\u001b[39;00m\u001b[38;5;124m`\u001b[39m\u001b[38;5;124m\"\u001b[39m\n\u001b[1;32m--> 938\u001b[0m     \u001b[38;5;28;01mraise\u001b[39;00m \u001b[38;5;167;01mValueError\u001b[39;00m(err)\n\u001b[0;32m    940\u001b[0m \u001b[38;5;28;01melse\u001b[39;00m:\n\u001b[0;32m    941\u001b[0m \n\u001b[0;32m    942\u001b[0m     \u001b[38;5;66;03m# Otherwise, assume the value is itself data\u001b[39;00m\n\u001b[0;32m    943\u001b[0m \n\u001b[0;32m    944\u001b[0m     \u001b[38;5;66;03m# Raise when data object is present and a vector can't matched\u001b[39;00m\n\u001b[0;32m    945\u001b[0m     \u001b[38;5;28;01mif\u001b[39;00m \u001b[38;5;28misinstance\u001b[39m(data, pd\u001b[38;5;241m.\u001b[39mDataFrame) \u001b[38;5;129;01mand\u001b[39;00m \u001b[38;5;129;01mnot\u001b[39;00m \u001b[38;5;28misinstance\u001b[39m(val, pd\u001b[38;5;241m.\u001b[39mSeries):\n",
      "\u001b[1;31mValueError\u001b[0m: Could not interpret value `age` for parameter `x`"
     ]
    },
    {
     "data": {
      "text/plain": [
       "<Figure size 1000x600 with 0 Axes>"
      ]
     },
     "metadata": {},
     "output_type": "display_data"
    }
   ],
   "source": [
    "numeric_vars = ['age', 'resting_blood_pressure', 'serum_cholesterol', 'maximum_heart_rate_achieved', 'ST_depression']\n",
    "\n",
    "# Plotting the distribution of each numeric variable based on heart disease presence\n",
    "for var in numeric_vars:\n",
    "    plt.figure(figsize=(10, 6))\n",
    "    sns.histplot(data=data, x=var, hue='target', kde=True)\n",
    "    plt.title(f'Distribution of {var} based on heart disease presence')\n",
    "    plt.show()\n"
   ]
  },
  {
   "cell_type": "markdown",
   "id": "0df8294f",
   "metadata": {},
   "source": [
    "Age: Older age groups have a higher likelihood of heart disease.\n",
    "\n",
    "Resting Blood Pressure (trestbps): Higher resting blood pressure is common in patients with heart disease.\n",
    "\n",
    "Cholesterol (chol): Higher cholesterol levels are more frequent in heart disease patients.\n",
    "\n",
    "Maximum Heart Rate Achieved (thalach): Lower maximum heart rates are often observed in patients with heart disease.\n",
    "\n",
    "ST Depression (oldpeak): Higher values of ST depression induced by exercise are linked with heart disease."
   ]
  },
  {
   "cell_type": "markdown",
   "id": "befd06b7",
   "metadata": {},
   "source": [
    "### Question 3 - Modelling Heart Disease Prediction Problem Through Machine Learning\n",
    "\n",
    "**3.1 Get your data ready for fitting a machine learning model on it by performing the appropriate preprocessing techniques.**"
   ]
  },
  {
   "cell_type": "code",
   "execution_count": 12,
   "id": "a9b5fe59",
   "metadata": {},
   "outputs": [],
   "source": [
    "# Split Data into Features and Target:\n",
    "\n",
    "from sklearn.model_selection import train_test_split\n",
    "\n",
    "X = data.drop('target', axis=1)\n",
    "y = data['target']\n",
    "\n",
    "X_train, X_test, y_train, y_test = train_test_split(X, y, test_size=0.2, random_state=42)\n"
   ]
  },
  {
   "cell_type": "code",
   "execution_count": 13,
   "id": "1467b6d6",
   "metadata": {},
   "outputs": [],
   "source": [
    "# Standardize the Data:\n",
    "from sklearn.preprocessing import StandardScaler\n",
    "\n",
    "scaler = StandardScaler()\n",
    "X_train = scaler.fit_transform(X_train)\n",
    "X_test = scaler.transform(X_test)\n"
   ]
  },
  {
   "cell_type": "markdown",
   "id": "cb6e682b",
   "metadata": {},
   "source": [
    "***3.2 Select 3 appropriate machine learning models for your heart disease prediction problem. Provide a short explanation of each chosen model as well as two advantages and disadvantages of each. Use the three models to fit your data and perform predictions on it, then determine which model performs the best. Save the model to disk.***\n",
    "\n",
    "Logistic Regression:\n",
    "\n",
    "Advantages: Simple and easy to interpret, works well for binary classification.\n",
    "Disadvantages: Assumes linear relationship, can underperform with complex relationships.\n",
    "Random Forest:\n",
    "\n",
    "Advantages: Handles non-linear relationships well, robust to overfitting.\n",
    "Disadvantages: Can be slow with large datasets, less interpretable than logistic regression.\n",
    "Support Vector Machine (SVM):\n",
    "\n",
    "Advantages: Effective in high-dimensional spaces, versatile with different kernel functions.\n",
    "Disadvantages: Memory-intensive, hard to tune."
   ]
  },
  {
   "cell_type": "code",
   "execution_count": 1,
   "id": "44b7e650",
   "metadata": {},
   "outputs": [
    {
     "ename": "NameError",
     "evalue": "name 'X_train' is not defined",
     "output_type": "error",
     "traceback": [
      "\u001b[1;31m---------------------------------------------------------------------------\u001b[0m",
      "\u001b[1;31mNameError\u001b[0m                                 Traceback (most recent call last)",
      "Cell \u001b[1;32mIn[1], line 9\u001b[0m\n\u001b[0;32m      7\u001b[0m \u001b[38;5;66;03m# Logistic Regression\u001b[39;00m\n\u001b[0;32m      8\u001b[0m lr \u001b[38;5;241m=\u001b[39m LogisticRegression()\n\u001b[1;32m----> 9\u001b[0m lr\u001b[38;5;241m.\u001b[39mfit(X_train, y_train)\n\u001b[0;32m     10\u001b[0m y_pred_lr \u001b[38;5;241m=\u001b[39m lr\u001b[38;5;241m.\u001b[39mpredict(X_test)\n\u001b[0;32m     11\u001b[0m lr_acc \u001b[38;5;241m=\u001b[39m accuracy_score(y_test, y_pred_lr)\n",
      "\u001b[1;31mNameError\u001b[0m: name 'X_train' is not defined"
     ]
    }
   ],
   "source": [
    "# Fit and Evaluate Models:\n",
    "from sklearn.linear_model import LogisticRegression\n",
    "from sklearn.ensemble import RandomForestClassifier\n",
    "from sklearn.svm import SVC\n",
    "from sklearn.metrics import accuracy_score\n",
    "\n",
    "# Logistic Regression\n",
    "lr = LogisticRegression()\n",
    "lr.fit(X_train, y_train)\n",
    "y_pred_lr = lr.predict(X_test)\n",
    "lr_acc = accuracy_score(y_test, y_pred_lr)\n",
    "\n",
    "# Random Forest\n",
    "rf = RandomForestClassifier()\n",
    "rf.fit(X_train, y_train)\n",
    "y_pred_rf = rf.predict(X_test)\n",
    "rf_acc = accuracy_score(y_test, y_pred_rf)\n",
    "\n",
    "# Support Vector Machine\n",
    "svm = SVC()\n",
    "svm.fit(X_train, y_train)\n",
    "y_pred_svm = svm.predict(X_test)\n",
    "svm_acc = accuracy_score(y_test, y_pred_svm)\n",
    "\n",
    "# Determine the best model\n",
    "accuracies = {'Logistic Regression': lr_acc, 'Random Forest': rf_acc, 'SVM': svm_acc}\n",
    "best_model_name = max(accuracies, key=accuracies.get)\n",
    "best_model = {'Logistic Regression': lr, 'Random Forest': rf, 'SVM': svm}[best_model_name]\n",
    "\n",
    "print(f\"Best model: {best_model_name} with accuracy {accuracies[best_model_name]}\")\n"
   ]
  },
  {
   "cell_type": "code",
   "execution_count": 15,
   "id": "33697341",
   "metadata": {},
   "outputs": [
    {
     "data": {
      "text/plain": [
       "['best_model.pkl']"
      ]
     },
     "execution_count": 15,
     "metadata": {},
     "output_type": "execute_result"
    }
   ],
   "source": [
    "# Save the Best Model:\n",
    "import joblib\n",
    "\n",
    "joblib.dump(best_model, 'best_model.pkl')\n"
   ]
  },
  {
   "cell_type": "markdown",
   "id": "0e0089dd",
   "metadata": {},
   "source": [
    "### Question 4: Web Application Using Streamlit\n",
    "\n",
    "Web application using streamlit\n",
    "Now that you have created and saved your model, you can deploy your model in a web application using\n",
    "streamlit for medical practitioners to use.\n",
    "\n",
    "* The functionality of your application\n",
    "* The usability\n",
    "* The design of the application\n",
    "* The code design/structure\n",
    "* Your code and application documentation\n",
    "* Error-handling"
   ]
  },
  {
   "cell_type": "code",
   "execution_count": null,
   "id": "7c752936",
   "metadata": {},
   "outputs": [],
   "source": [
    "# Create Streamlit App\n",
    "pip install streamlit\n",
    "import streamlit as st\n",
    "import joblib\n",
    "import numpy as np\n",
    "\n",
    "\n",
    "# Load the saved model\n",
    "model = joblib.load('best_model.pkl')\n",
    "\n",
    "# Title\n",
    "st.title('Heart Disease Prediction')\n",
    "\n",
    "# User inputs\n",
    "age = st.number_input('Age')\n",
    "sex = st.selectbox('Sex', ['Male', 'Female'])\n",
    "cp = st.selectbox('Chest Pain Type', ['Typical Angina', 'Atypical Angina', 'Non-anginal Pain', 'Asymptomatic'])\n",
    "trestbps = st.number_input('Resting Blood Pressure')\n",
    "chol = st.number_input('Cholesterol')\n",
    "fbs = st.selectbox('Fasting Blood Sugar > 120 mg/dl', ['False', 'True'])\n",
    "restecg = st.selectbox('Resting ECG', ['Normal', 'ST-T wave abnormality', 'Left ventricular hypertrophy'])\n",
    "thalach = st.number_input('Maximum Heart Rate Achieved')\n",
    "exang = st.selectbox('Exercise Induced Angina', ['No', 'Yes'])\n",
    "oldpeak = st.number_input('ST Depression Induced by Exercise')\n",
    "slope = st.selectbox('Slope of the Peak Exercise ST Segment', ['Upsloping', 'Flat', 'Downsloping'])\n",
    "ca = st.selectbox('Number of Major Vessels Colored by Fluoroscopy', ['0', '1', '2', '3'])\n",
    "thal = st.selectbox('Thalassemia', ['Normal', 'Fixed Defect', 'Reversible Defect'])\n",
    "\n",
    "# Predict\n",
    "if st.button('Predict'):\n",
    "    # Map categorical values to numerical values\n",
    "    sex = 0 if sex == 'Male' else 1\n",
    "    cp = ['Typical Angina', 'Atypical Angina', 'Non-anginal Pain', 'Asymptomatic'].index(cp)\n",
    "    fbs = 1 if fbs == 'True' else 0\n",
    "    restecg = ['Normal', 'ST-T wave abnormality', 'Left ventricular hypertrophy'].index(restecg)\n",
    "    exang = 1 if exang == 'Yes' else 0\n",
    "    slope = ['Upsloping', 'Flat', 'Downsloping'].index(slope)\n",
    "    thal = ['Normal', 'Fixed Defect', 'Reversible Defect'].index(thal)\n",
    "    \n",
    "    features = np.array([[age, sex, cp, trestbps, chol, fbs, restecg, thalach, exang, oldpeak, slope, ca, thal]])\n",
    "    prediction = model.predict(features)\n",
    "    \n",
    "    if prediction[0] == 1:\n",
    "        st.write('The patient is likely to have heart disease.')\n",
    "    else:\n",
    "        st.write('The patient is unlikely to have heart disease.')\n"
   ]
  },
  {
   "cell_type": "code",
   "execution_count": null,
   "id": "b250e2bc",
   "metadata": {},
   "outputs": [],
   "source": [
    "#Run the app\n",
    "!streamlit run heart_disease_app.py"
   ]
  },
  {
   "cell_type": "markdown",
   "id": "661e6d9e",
   "metadata": {},
   "source": [
    "Thank you"
   ]
  },
  {
   "cell_type": "code",
   "execution_count": null,
   "id": "91861499",
   "metadata": {},
   "outputs": [],
   "source": []
  }
 ],
 "metadata": {
  "kernelspec": {
   "display_name": "Python 3 (ipykernel)",
   "language": "python",
   "name": "python3"
  },
  "language_info": {
   "codemirror_mode": {
    "name": "ipython",
    "version": 3
   },
   "file_extension": ".py",
   "mimetype": "text/x-python",
   "name": "python",
   "nbconvert_exporter": "python",
   "pygments_lexer": "ipython3",
   "version": "3.11.5"
  }
 },
 "nbformat": 4,
 "nbformat_minor": 5
}
